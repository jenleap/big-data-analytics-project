{
 "cells": [
  {
   "cell_type": "markdown",
   "id": "703a696a",
   "metadata": {},
   "source": [
    "#intro here"
   ]
  },
  {
   "cell_type": "code",
   "execution_count": 2,
   "id": "37fd9bfd",
   "metadata": {},
   "outputs": [
    {
     "name": "stdout",
     "output_type": "stream",
     "text": [
      "<class 'pandas.core.frame.DataFrame'>\n",
      "RangeIndex: 3421083 entries, 0 to 3421082\n",
      "Data columns (total 7 columns):\n",
      " #   Column                  Dtype  \n",
      "---  ------                  -----  \n",
      " 0   order_id                int64  \n",
      " 1   user_id                 int64  \n",
      " 2   eval_set                object \n",
      " 3   order_number            int64  \n",
      " 4   order_dow               int64  \n",
      " 5   order_hour_of_day       int64  \n",
      " 6   days_since_prior_order  float64\n",
      "dtypes: float64(1), int64(5), object(1)\n",
      "memory usage: 182.7+ MB\n",
      "None\n",
      "           order_id       user_id  order_number     order_dow  \\\n",
      "count  3.421083e+06  3.421083e+06  3.421083e+06  3.421083e+06   \n",
      "mean   1.710542e+06  1.029782e+05  1.715486e+01  2.776219e+00   \n",
      "std    9.875817e+05  5.953372e+04  1.773316e+01  2.046829e+00   \n",
      "min    1.000000e+00  1.000000e+00  1.000000e+00  0.000000e+00   \n",
      "25%    8.552715e+05  5.139400e+04  5.000000e+00  1.000000e+00   \n",
      "50%    1.710542e+06  1.026890e+05  1.100000e+01  3.000000e+00   \n",
      "75%    2.565812e+06  1.543850e+05  2.300000e+01  5.000000e+00   \n",
      "max    3.421083e+06  2.062090e+05  1.000000e+02  6.000000e+00   \n",
      "\n",
      "       order_hour_of_day  days_since_prior_order  \n",
      "count       3.421083e+06            3.214874e+06  \n",
      "mean        1.345202e+01            1.111484e+01  \n",
      "std         4.226088e+00            9.206737e+00  \n",
      "min         0.000000e+00            0.000000e+00  \n",
      "25%         1.000000e+01            4.000000e+00  \n",
      "50%         1.300000e+01            7.000000e+00  \n",
      "75%         1.600000e+01            1.500000e+01  \n",
      "max         2.300000e+01            3.000000e+01  \n",
      "eval_set\n",
      "prior    3214874\n",
      "train     131209\n",
      "test       75000\n",
      "Name: count, dtype: int64\n",
      "order_dow\n",
      "0    0.175648\n",
      "1    0.171723\n",
      "2    0.136582\n",
      "5    0.132522\n",
      "6    0.131175\n",
      "3    0.127729\n",
      "4    0.124621\n",
      "Name: proportion, dtype: float64\n",
      "order_id                       0\n",
      "user_id                        0\n",
      "eval_set                       0\n",
      "order_number                   0\n",
      "order_dow                      0\n",
      "order_hour_of_day              0\n",
      "days_since_prior_order    206209\n",
      "dtype: int64\n"
     ]
    }
   ],
   "source": [
    "import pandas as pd\n",
    "\n",
    "df = pd.read_csv(\"dataset/orders.csv\")\n",
    "\n",
    "# Quick overview\n",
    "print(df.info())\n",
    "print(df.describe())\n",
    "\n",
    "# Frequency counts\n",
    "print(df['eval_set'].value_counts())\n",
    "print(df['order_dow'].value_counts(normalize=True))\n",
    "\n",
    "# Missing values\n",
    "print(df.isna().sum())\n"
   ]
  },
  {
   "cell_type": "code",
   "execution_count": null,
   "id": "9b159caa",
   "metadata": {},
   "outputs": [],
   "source": [
    "\n",
    "\n",
    "sample_df = df.sample(50000)\n",
    "profile = ProfileReport(sample_df, explorative=True)\n",
    "profile.to_file(\"sample_report.html\")\n"
   ]
  },
  {
   "cell_type": "code",
   "execution_count": 2,
   "id": "ad44cb74",
   "metadata": {},
   "outputs": [
    {
     "name": "stderr",
     "output_type": "stream",
     "text": [
      "c:\\Users\\jenle\\AppData\\Local\\Programs\\Python\\Python312\\Lib\\site-packages\\ydata_profiling\\utils\\dataframe.py:137: SettingWithCopyWarning: \n",
      "A value is trying to be set on a copy of a slice from a DataFrame\n",
      "\n",
      "See the caveats in the documentation: https://pandas.pydata.org/pandas-docs/stable/user_guide/indexing.html#returning-a-view-versus-a-copy\n",
      "  df.rename(columns={\"index\": \"df_index\"}, inplace=True)\n"
     ]
    },
    {
     "data": {
      "application/vnd.jupyter.widget-view+json": {
       "model_id": "4239e7f250224712b4ada6ac3c8f2c3c",
       "version_major": 2,
       "version_minor": 0
      },
      "text/plain": [
       "Summarize dataset:   0%|          | 0/5 [00:00<?, ?it/s]"
      ]
     },
     "metadata": {},
     "output_type": "display_data"
    },
    {
     "name": "stderr",
     "output_type": "stream",
     "text": [
      "100%|██████████| 10/10 [00:18<00:00,  1.87s/it]\n"
     ]
    },
    {
     "data": {
      "application/vnd.jupyter.widget-view+json": {
       "model_id": "c733d1b6a10845f5ae73036029701a1a",
       "version_major": 2,
       "version_minor": 0
      },
      "text/plain": [
       "Generate report structure:   0%|          | 0/1 [00:00<?, ?it/s]"
      ]
     },
     "metadata": {},
     "output_type": "display_data"
    },
    {
     "data": {
      "application/vnd.jupyter.widget-view+json": {
       "model_id": "66f40b091abf476caa18f4cba46a70b6",
       "version_major": 2,
       "version_minor": 0
      },
      "text/plain": [
       "Render HTML:   0%|          | 0/1 [00:00<?, ?it/s]"
      ]
     },
     "metadata": {},
     "output_type": "display_data"
    },
    {
     "data": {
      "application/vnd.jupyter.widget-view+json": {
       "model_id": "2415cd9bc2be40ee9d3638465c23fb6e",
       "version_major": 2,
       "version_minor": 0
      },
      "text/plain": [
       "Export report to file:   0%|          | 0/1 [00:00<?, ?it/s]"
      ]
     },
     "metadata": {},
     "output_type": "display_data"
    }
   ],
   "source": [
    "from ydata_profiling import ProfileReport\n",
    "import pandas as pd\n",
    "\n",
    "orders = pd.read_csv('dataset/orders.csv')\n",
    "order_products_prior = pd.read_csv('dataset/order_products__prior.csv')\n",
    "products = pd.read_csv('dataset/products.csv')\n",
    "aisles = pd.read_csv('dataset/aisles.csv')\n",
    "departments = pd.read_csv('dataset/departments.csv')\n",
    "\n",
    "products_full = (products\n",
    "    .merge(aisles, on='aisle_id', how='left')\n",
    "    .merge(departments, on='department_id', how='left')\n",
    ")\n",
    "\n",
    "prior_products = order_products_prior.merge(products_full, on='product_id', how='left')\n",
    "\n",
    "full_orders_products = prior_products.merge(\n",
    "    orders,\n",
    "    on='order_id',\n",
    "    how='left'\n",
    ")\n",
    "\n",
    "# Don't need these since we have the descriptions\n",
    "columns_to_remove = [\"order_id\", \"product_id\", \"aisle_id\", \"department_id\", \"eval_set\"]\n",
    "\n",
    "full_orders_products_df = full_orders_products.drop(columns=columns_to_remove)\n",
    "\n",
    "# Build a sample of users to keep basket integrity and product diversity\n",
    "sample_frac = 0.05\n",
    "sampled_users = orders['user_id'].drop_duplicates().sample(frac=sample_frac, random_state=42)\n",
    "df_sample = full_orders_products_df[full_orders_products_df['user_id'].isin(sampled_users)]\n",
    "\n",
    "profile = ProfileReport(df_sample, explorative=True)\n",
    "profile.to_file(\"eda_report_orders.html\")"
   ]
  }
 ],
 "metadata": {
  "kernelspec": {
   "display_name": "Python 3",
   "language": "python",
   "name": "python3"
  },
  "language_info": {
   "codemirror_mode": {
    "name": "ipython",
    "version": 3
   },
   "file_extension": ".py",
   "mimetype": "text/x-python",
   "name": "python",
   "nbconvert_exporter": "python",
   "pygments_lexer": "ipython3",
   "version": "3.12.4"
  }
 },
 "nbformat": 4,
 "nbformat_minor": 5
}
